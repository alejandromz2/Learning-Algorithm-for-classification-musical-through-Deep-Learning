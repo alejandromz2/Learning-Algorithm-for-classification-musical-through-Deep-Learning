{
 "cells": [
  {
   "cell_type": "code",
   "execution_count": 1,
   "metadata": {},
   "outputs": [
    {
     "name": "stderr",
     "output_type": "stream",
     "text": [
      "D:\\anaconda3\\envs\\python2\\lib\\site-packages\\librosa\\__init__.py:35: FutureWarning: You are using librosa with Python 2. Please note that librosa 0.7 will be the last version to support Python 2, after which it will require Python 3 or later.\n",
      "  FutureWarning)\n"
     ]
    }
   ],
   "source": [
    "import os\n",
    "import librosa \n",
    "from librosa import display\n",
    "import numpy as np\n",
    "import IPython.display as ipd\n",
    "from glob import glob\n",
    "import matplotlib.pyplot as plt\n",
    "%matplotlib inline \n",
    "import random\n",
    "import seaborn as sns\n",
    "from sklearn.metrics import confusion_matrix\n",
    "#%matplotlib notebook\n",
    "#conda install -c conda-forge pysoundfile"
   ]
  },
  {
   "cell_type": "code",
   "execution_count": 2,
   "metadata": {},
   "outputs": [],
   "source": [
    "train_blues = glob('{}/Proyecto/Songs/blues/*.wav'.format(os.path.abspath('../')))\n",
    "train_classical = glob('{}/Proyecto/Songs/classical/*.wav'.format(os.path.abspath('../')))\n",
    "train_country = glob('{}/Proyecto/Songs/country/*.wav'.format(os.path.abspath('../')))\n",
    "train_disco = glob('{}/Proyecto/Songs/disco/*.wav'.format(os.path.abspath('../')))\n",
    "train_jazz = glob('{}/Proyecto/Songs/jazz/*.wav'.format(os.path.abspath('../')))\n",
    "train_rock = glob('{}/Proyecto/Songs/rock/*.wav'.format(os.path.abspath('../')))\n",
    "train_hiphop = glob('{}/Proyecto/Songs/hiphop/*.wav'.format(os.path.abspath('../')))\n",
    "train_metal = glob('{}/Proyecto/Songs/metal/*.wav'.format(os.path.abspath('../')))\n",
    "train_pop = glob('{}/Proyecto/Songs/pop/*.wav'.format(os.path.abspath('../')))\n",
    "train_reggae = glob('{}/Proyecto/Songs/reggae/*.wav'.format(os.path.abspath('../')))\n",
    "train_rock = glob('{}/Proyecto/Songs/rock/*.wav'.format(os.path.abspath('../')))\n"
   ]
  },
  {
   "cell_type": "code",
   "execution_count": 3,
   "metadata": {},
   "outputs": [],
   "source": [
    "\n",
    "def data_to_spec(data):\n",
    "    D = librosa.stft(data)\n",
    "    return librosa.power_to_db(np.abs(D)**2, ref=np.median)\n",
    "\n",
    "def file_to_spec(filename):\n",
    "    data, rate = librosa.load(filename)\n",
    "    return data_to_spec(data)\n",
    "\n",
    "def file_to_label(filename):\n",
    "    fname = os.path.basename(filename)\n",
    "    cid = fname.replace('.wav', '')\n",
    "    classname = labels.loc[labels['ID'] == cid]\n",
    "    return classname.values.tolist()[0][1] \n",
    "\n",
    "def show_file(filename):\n",
    "    plt.title(file_to_label(filename))\n",
    "    librosa.display.specshow(file_to_spec(filename), x_axis='time', y_axis='linear');\n",
    "    plt.colorbar();"
   ]
  },
  {
   "cell_type": "code",
   "execution_count": 4,
   "metadata": {},
   "outputs": [],
   "source": [
    "def fftmedia(train):\n",
    "    MA=np.zeros((len(train)))\n",
    "    MM=np.zeros((len(train)))\n",
    "    MG=np.zeros((len(train)))\n",
    "    M=np.zeros((len(train)))\n",
    "    \n",
    "    for i in range(1):\n",
    "        data, rate = librosa.load(train[i]);\n",
    "        fft = np.abs(librosa.stft(data, n_fft=2*rate));\n",
    "        fft=fft/np.max(fft);\n",
    "        agudos=fft[3000:,:]\n",
    "        agudosmed= np.mean(agudos[1,:])\n",
    "\n",
    "        medios=fft[250:3000,:]\n",
    "        mediosmed= np.mean(medios[1,:])\n",
    "\n",
    "        graves=fft[0:250,:]\n",
    "        gravmed= np.mean(graves[1,:])\n",
    "        \n",
    "        prom=np.mean(fft[:,:]);\n",
    "        M[i]=prom;\n",
    "        MA[i]=agudosmed;\n",
    "        MM[i]=mediosmed;\n",
    "        MG[i]=gravmed;\n",
    "     \n"
   ]
  },
  {
   "cell_type": "code",
   "execution_count": 5,
   "metadata": {},
   "outputs": [],
   "source": [
    "MA_blues=np.zeros((len(train_blues)))\n",
    "MM_blues=np.zeros((len(train_blues)))\n",
    "MG_blues=np.zeros((len(train_blues)))\n",
    "M_blues=np.zeros((len(train_blues)))\n",
    "    \n",
    "for i in range(100):\n",
    "    data, rate = librosa.load(train_blues[i]);\n",
    "    fft = np.abs(librosa.stft(data, n_fft=2*rate));\n",
    "    fft=fft/np.max(fft);\n",
    "    agudos=fft[3000L:,:]\n",
    "    agudosmed= np.mean(agudos[1,:])\n",
    "    medios=fft[250L:3000L,:]\n",
    "    mediosmed= np.mean(medios[1,:])\n",
    "    graves=fft[0:250L,:]\n",
    "    gravmed= np.mean(graves[1,:])\n",
    "        \n",
    "    prom=np.mean(fft[:,:]);\n",
    "    M_blues[i]=prom;\n",
    "    MA_blues[i]=agudosmed;\n",
    "    MM_blues[i]=mediosmed;\n",
    "    MG_blues[i]=gravmed;\n",
    "     \n",
    "\n"
   ]
  },
  {
   "cell_type": "code",
   "execution_count": 6,
   "metadata": {},
   "outputs": [],
   "source": [
    "MA_classical=np.zeros((len(train_classical)))\n",
    "MM_classical=np.zeros((len(train_classical)))\n",
    "MG_classical=np.zeros((len(train_classical)))\n",
    "M_classical=np.zeros((len(train_classical)))\n",
    "    \n",
    "for i in range(100):\n",
    "    data, rate = librosa.load(train_classical[i]);\n",
    "    fft = np.abs(librosa.stft(data, n_fft=2*rate));\n",
    "    fft=fft/np.max(fft);\n",
    "    agudos=fft[3000L:,:]\n",
    "    agudosmed= np.mean(agudos[1,:])\n",
    "    medios=fft[250L:3000L,:]\n",
    "    mediosmed= np.mean(medios[1,:])\n",
    "    graves=fft[0:250L,:]\n",
    "    gravmed= np.mean(graves[1,:])\n",
    "        \n",
    "    prom=np.mean(fft[:,:]);\n",
    "    M_classical[i]=prom;\n",
    "    MA_classical[i]=agudosmed;\n",
    "    MM_classical[i]=mediosmed;\n",
    "    MG_classical[i]=gravmed;\n"
   ]
  },
  {
   "cell_type": "code",
   "execution_count": 7,
   "metadata": {},
   "outputs": [],
   "source": [
    "MA_country=np.zeros((len(train_country)))\n",
    "MM_country=np.zeros((len(train_country)))\n",
    "MG_country=np.zeros((len(train_country)))\n",
    "M_country=np.zeros((len(train_country)))\n",
    "    \n",
    "for i in range(100):\n",
    "    data, rate = librosa.load(train_country[i]);\n",
    "    fft = np.abs(librosa.stft(data, n_fft=2*rate));\n",
    "    fft=fft/np.max(fft);\n",
    "    agudos=fft[3000L:,:]\n",
    "    agudosmed= np.mean(agudos[1,:])\n",
    "    medios=fft[250L:3000L,:]\n",
    "    mediosmed= np.mean(medios[1,:])\n",
    "    graves=fft[0:250L,:]\n",
    "    gravmed= np.mean(graves[1,:])   \n",
    "    prom=np.mean(fft[:,:]);\n",
    "    M_country[i]=prom;\n",
    "    MA_country[i]=agudosmed;\n",
    "    MM_country[i]=mediosmed;\n",
    "    MG_country[i]=gravmed;\n"
   ]
  },
  {
   "cell_type": "code",
   "execution_count": 8,
   "metadata": {},
   "outputs": [],
   "source": [
    "MA_disco=np.zeros((len(train_disco)))\n",
    "MM_disco=np.zeros((len(train_disco)))\n",
    "MG_disco=np.zeros((len(train_disco)))\n",
    "M_disco=np.zeros((len(train_disco)))\n",
    "    \n",
    "for i in range(100):\n",
    "    data, rate = librosa.load(train_disco[i]);\n",
    "    fft = np.abs(librosa.stft(data, n_fft=2*rate));\n",
    "    fft=fft/np.max(fft);\n",
    "    agudos=fft[3000L:,:]\n",
    "    agudosmed= np.mean(agudos[1,:])\n",
    "    medios=fft[250L:3000L,:]\n",
    "    mediosmed= np.mean(medios[1,:])\n",
    "    graves=fft[0:250L,:]\n",
    "    gravmed= np.mean(graves[1,:])   \n",
    "    prom=np.mean(fft[:,:]);\n",
    "    M_disco[i]=prom;\n",
    "    MA_disco[i]=agudosmed;\n",
    "    MM_disco[i]=mediosmed;\n",
    "    MG_disco[i]=gravmed;\n"
   ]
  },
  {
   "cell_type": "code",
   "execution_count": 9,
   "metadata": {},
   "outputs": [],
   "source": [
    "MA_hiphop=np.zeros((len(train_hiphop)))\n",
    "MM_hiphop=np.zeros((len(train_hiphop)))\n",
    "MG_hiphop=np.zeros((len(train_hiphop)))\n",
    "M_hiphop=np.zeros((len(train_hiphop)))\n",
    "    \n",
    "for i in range(100):\n",
    "    data, rate = librosa.load(train_hiphop[i]);\n",
    "    fft = np.abs(librosa.stft(data, n_fft=2*rate));\n",
    "    fft=fft/np.max(fft);\n",
    "    agudos=fft[3000L:,:]\n",
    "    agudosmed= np.mean(agudos[1,:])\n",
    "    medios=fft[250L:3000L,:]\n",
    "    mediosmed= np.mean(medios[1,:])\n",
    "    graves=fft[0:250L,:]\n",
    "    gravmed= np.mean(graves[1,:])   \n",
    "    prom=np.mean(fft[:,:]);\n",
    "    M_hiphop[i]=prom;\n",
    "    MA_hiphop[i]=agudosmed;\n",
    "    MM_hiphop[i]=mediosmed;\n",
    "    MG_hiphop[i]=gravmed;\n"
   ]
  },
  {
   "cell_type": "code",
   "execution_count": 10,
   "metadata": {},
   "outputs": [],
   "source": [
    "MA_metal=np.zeros((len(train_metal)))\n",
    "MM_metal=np.zeros((len(train_metal)))\n",
    "MG_metal=np.zeros((len(train_metal)))\n",
    "M_metal=np.zeros((len(train_metal)))\n",
    "    \n",
    "for i in range(100):\n",
    "    data, rate = librosa.load(train_metal[i]);\n",
    "    fft = np.abs(librosa.stft(data, n_fft=2*rate));\n",
    "    fft=fft/np.max(fft);\n",
    "    agudos=fft[3000L:,:]\n",
    "    agudosmed= np.mean(agudos[1,:])\n",
    "    medios=fft[250L:3000L,:]\n",
    "    mediosmed= np.mean(medios[1,:])\n",
    "    graves=fft[0:250L,:]\n",
    "    gravmed= np.mean(graves[1,:])   \n",
    "    prom=np.mean(fft[:,:]);\n",
    "    M_metal[i]=prom;\n",
    "    MA_metal[i]=agudosmed;\n",
    "    MM_metal[i]=mediosmed;\n",
    "    MG_metal[i]=gravmed;\n"
   ]
  },
  {
   "cell_type": "code",
   "execution_count": 11,
   "metadata": {},
   "outputs": [],
   "source": [
    "MA_pop=np.zeros((len(train_pop)))\n",
    "MM_pop=np.zeros((len(train_pop)))\n",
    "MG_pop=np.zeros((len(train_pop)))\n",
    "M_pop=np.zeros((len(train_pop)))\n",
    "   \n",
    "for i in range(100):\n",
    "    data, rate = librosa.load(train_pop[i]);\n",
    "    fft = np.abs(librosa.stft(data, n_fft=2*rate));\n",
    "    fft=fft/np.max(fft);\n",
    "    agudos=fft[3000L:,:]\n",
    "    agudosmed= np.mean(agudos[1,:])\n",
    "    medios=fft[250L:3000L,:]\n",
    "    mediosmed= np.mean(medios[1,:])\n",
    "    graves=fft[0:250L,:]\n",
    "    gravmed= np.mean(graves[1,:])   \n",
    "    prom=np.mean(fft[:,:]);\n",
    "    M_pop[i]=prom;\n",
    "    MA_pop[i]=agudosmed;\n",
    "    MM_pop[i]=mediosmed;\n",
    "    MG_pop[i]=gravmed;\n"
   ]
  },
  {
   "cell_type": "code",
   "execution_count": 12,
   "metadata": {},
   "outputs": [],
   "source": [
    "MA_reggae=np.zeros((len(train_reggae)))\n",
    "MM_reggae=np.zeros((len(train_reggae)))\n",
    "MG_reggae=np.zeros((len(train_reggae)))\n",
    "M_reggae=np.zeros((len(train_reggae)))\n",
    "   \n",
    "for i in range(100):\n",
    "    data, rate = librosa.load(train_reggae[i]);\n",
    "    fft = np.abs(librosa.stft(data, n_fft=2*rate));\n",
    "    fft=fft/np.max(fft);\n",
    "    agudos=fft[3000L:,:]\n",
    "    agudosmed= np.mean(agudos[1,:])\n",
    "    medios=fft[250L:3000L,:]\n",
    "    mediosmed= np.mean(medios[1,:])\n",
    "    graves=fft[0:250L,:]\n",
    "    gravmed= np.mean(graves[1,:])   \n",
    "    prom=np.mean(fft[:,:]);\n",
    "    M_reggae[i]=prom;\n",
    "    MA_reggae[i]=agudosmed;\n",
    "    MM_reggae[i]=mediosmed;\n",
    "    MG_reggae[i]=gravmed;\n"
   ]
  },
  {
   "cell_type": "code",
   "execution_count": 13,
   "metadata": {},
   "outputs": [],
   "source": [
    "MA_rock=np.zeros((len(train_rock)))\n",
    "MM_rock=np.zeros((len(train_rock)))\n",
    "MG_rock=np.zeros((len(train_rock)))\n",
    "M_rock=np.zeros((len(train_rock)))\n",
    "   \n",
    "for i in range(100):\n",
    "    data, rate = librosa.load(train_rock[i]);\n",
    "    fft = np.abs(librosa.stft(data, n_fft=2*rate));\n",
    "    fft=fft/np.max(fft);\n",
    "    agudos=fft[3000L:,:]\n",
    "    agudosmed= np.mean(agudos[1,:])\n",
    "    medios=fft[250L:3000L,:]\n",
    "    mediosmed= np.mean(medios[1,:])\n",
    "    graves=fft[0:250L,:]\n",
    "    gravmed= np.mean(graves[1,:])   \n",
    "    prom=np.mean(fft[:,:]);\n",
    "    M_rock[i]=prom;\n",
    "    MA_rock[i]=agudosmed;\n",
    "    MM_rock[i]=mediosmed;\n",
    "    MG_rock[i]=gravmed;"
   ]
  },
  {
   "cell_type": "code",
   "execution_count": 14,
   "metadata": {},
   "outputs": [],
   "source": [
    "MA_jazz=np.zeros((99))\n",
    "MM_jazz=np.zeros((99))\n",
    "MG_jazz=np.zeros((99))\n",
    "M_jazz=np.zeros((99))\n",
    "    \n",
    "for i in range(99):\n",
    "    data, rate = librosa.load(train_jazz[i]);\n",
    "    fft = np.abs(librosa.stft(data, n_fft=2*rate));\n",
    "    fft=fft/np.max(fft);\n",
    "    agudos=fft[3000L:,:]\n",
    "    agudosmed= np.mean(agudos[1,:])\n",
    "    medios=fft[250L:3000L,:]\n",
    "    mediosmed= np.mean(medios[1,:])\n",
    "    graves=fft[0:250L,:]\n",
    "    gravmed= np.mean(graves[1,:])   \n",
    "    prom=np.mean(fft[:,:]);\n",
    "    M_jazz[i]=prom;\n",
    "    MA_jazz[i]=agudosmed;\n",
    "    MM_jazz[i]=mediosmed;\n",
    "    MG_jazz[i]=gravmed;"
   ]
  },
  {
   "cell_type": "code",
   "execution_count": 15,
   "metadata": {},
   "outputs": [],
   "source": [
    "MA_blues= MA_blues.reshape(100,1)\n",
    "MM_blues= MA_blues.reshape(100,1)\n",
    "MG_blues= MA_blues.reshape(100,1)\n",
    "M_blues= MA_blues.reshape(100,1)\n",
    "\n",
    "MA_classical= MA_classical.reshape(100,1)\n",
    "MM_classical= MA_classical.reshape(100,1)\n",
    "MG_classical= MA_classical.reshape(100,1)\n",
    "M_classical= MA_classical.reshape(100,1)\n",
    "\n",
    "MA_country= MA_country.reshape(100,1)\n",
    "MM_country= MA_country.reshape(100,1)\n",
    "MG_country= MA_blues.reshape(100,1)\n",
    "M_country= MA_country.reshape(100,1)\n",
    "\n",
    "MA_disco= MA_disco.reshape(100,1)\n",
    "MM_disco= MA_disco.reshape(100,1)\n",
    "MG_disco= MA_disco.reshape(100,1)\n",
    "M_disco= MA_disco.reshape(100,1)\n",
    "\n",
    "MA_hiphop= MA_hiphop.reshape(100,1)\n",
    "MM_hiphop= MA_hiphop.reshape(100,1)\n",
    "MG_hiphop= MA_hiphop.reshape(100,1)\n",
    "M_hiphop= MA_hiphop.reshape(100,1)\n",
    "\n",
    "MA_jazz= MA_jazz.reshape(99,1)\n",
    "MM_jazz= MA_jazz.reshape(99,1)\n",
    "MG_jazz= MA_jazz.reshape(99,1)\n",
    "M_jazz= MA_jazz.reshape(99,1)\n",
    "\n",
    "MA_metal= MA_metal.reshape(100,1)\n",
    "MM_metal= MA_metal.reshape(100,1)\n",
    "MG_metal= MA_metal.reshape(100,1)\n",
    "M_metal= MA_metal.reshape(100,1)\n",
    "\n",
    "MA_pop= MA_pop.reshape(100,1)\n",
    "MM_pop= MA_pop.reshape(100,1)\n",
    "MG_pop= MA_pop.reshape(100,1)\n",
    "M_pop= MA_pop.reshape(100,1)\n",
    "\n",
    "MA_reggae= MA_reggae.reshape(100,1)\n",
    "MM_reggae= MA_reggae.reshape(100,1)\n",
    "MG_reggae= MA_reggae.reshape(100,1)\n",
    "M_reggae= MA_reggae.reshape(100,1)\n",
    "\n",
    "MA_rock= MA_rock.reshape(100,1)\n",
    "MM_rock= MA_rock.reshape(100,1)\n",
    "MG_rock= MA_rock.reshape(100,1)\n",
    "M_rock= MA_rock.reshape(100,1)\n",
    "\n"
   ]
  },
  {
   "cell_type": "code",
   "execution_count": 16,
   "metadata": {},
   "outputs": [],
   "source": [
    "MA= np.vstack((MA_blues,MA_classical, MA_country, MA_disco, MA_hiphop, MA_jazz, MA_metal, MA_pop, MA_reggae, MA_rock))\n",
    "MM= np.vstack((MM_blues,MM_classical, MM_country, MM_disco, MM_hiphop, MM_jazz, MM_metal, MM_pop, MM_reggae, MM_rock))\n",
    "MG= np.vstack((MG_blues,MG_classical, MG_country, MG_disco, MG_hiphop, MG_jazz, MG_metal, MG_pop, MG_reggae, MG_rock))\n",
    "M= np.vstack((M_blues,M_classical, M_country, M_disco, M_hiphop, M_jazz, M_metal, M_pop, M_reggae, M_rock))\n",
    "X=np.hstack((MA,MM,MG,M))"
   ]
  },
  {
   "cell_type": "code",
   "execution_count": 17,
   "metadata": {},
   "outputs": [],
   "source": [
    "X=np.hstack((MA,MM,MG,M))\n",
    "Y= np.loadtxt('Y.txt', delimiter=',')\n",
    "Y=Y[None].T\n",
    "\n",
    "DF=np.hstack((X,Y))\n",
    "\n",
    "np.random.seed(seed=0)\n",
    "rango=random.sample(range(0,999),999)\n",
    "\n",
    "DF=DF[rango]\n"
   ]
  },
  {
   "cell_type": "code",
   "execution_count": 18,
   "metadata": {},
   "outputs": [],
   "source": [
    "# 80% train/ 20% test\n",
    "train=DF[0:800,:]\n",
    "test=DF[800:,:]\n",
    "\n",
    "\n",
    "# Entrenamiento\n",
    "xtrain=train[:,:4]\n",
    "ytrain=train[:,4:]\n",
    "\n",
    "# Testeo\n",
    "\n",
    "xtest=test[:,:4]\n",
    "ytest=test[:,4:]\n",
    "\n",
    "n=len(xtest)"
   ]
  },
  {
   "cell_type": "markdown",
   "metadata": {},
   "source": [
    "#### Regresión Lineal\n",
    "\n",
    "Entrenamos el módelo usando un modelo de regresión lineal de Ridge usando bases gaussianas"
   ]
  },
  {
   "cell_type": "code",
   "execution_count": 19,
   "metadata": {},
   "outputs": [],
   "source": [
    "# Función de hipótesis\n",
    "def h(X, w, w0):\n",
    "    return np.dot(w.T, X) + w0"
   ]
  },
  {
   "cell_type": "code",
   "execution_count": 20,
   "metadata": {},
   "outputs": [],
   "source": [
    "from sklearn.base import BaseEstimator, TransformerMixin\n",
    "from sklearn.preprocessing import PolynomialFeatures\n",
    "from sklearn.pipeline import make_pipeline\n",
    "\n",
    "# Creación de una clase arbitraria (gaussiana)\n",
    "class GaussianFeatures(BaseEstimator, TransformerMixin):\n",
    "    \"\"\" Funciones Gaussianas uniformemente distribuidas\"\"\"\n",
    "    def __init__(self, N, width=2.0):\n",
    "        self.N = N\n",
    "        self.width_factor = width\n",
    "        \n",
    "    @staticmethod\n",
    "    def _gauss_basis(x, y, width, axis=None):\n",
    "        arg = (x-y)/width\n",
    "        return np.exp(-0.5*np.sum(arg**2, axis))\n",
    "        \n",
    "    def fit(self, X, y=None):\n",
    "        # Crear N centros distribuidos en el rango de datos\n",
    "        self.centers_ = np.linspace(X.min(), X.max(), self.N)\n",
    "        self.width_ = self.width_factor*(self.centers_[1]-self.centers_[0])\n",
    "        return self\n",
    "        \n",
    "    def transform(self, X):\n",
    "        return self._gauss_basis(X[:, :, np.newaxis], self.centers_, self.width_, axis=1)\n",
    "    "
   ]
  },
  {
   "cell_type": "markdown",
   "metadata": {},
   "source": [
    "### Regresión Lineal usando Ridge"
   ]
  },
  {
   "cell_type": "code",
   "execution_count": 21,
   "metadata": {
    "scrolled": true
   },
   "outputs": [
    {
     "data": {
      "text/plain": [
       "Pipeline(memory=None,\n",
       "     steps=[('gaussianfeatures', GaussianFeatures(N=30, width=None)), ('ridge', Ridge(alpha=0.1, copy_X=True, fit_intercept=True, max_iter=None,\n",
       "   normalize=False, random_state=None, solver='auto', tol=0.001))])"
      ]
     },
     "execution_count": 21,
     "metadata": {},
     "output_type": "execute_result"
    }
   ],
   "source": [
    "# Regresión Lineal\n",
    "from sklearn.linear_model import Ridge\n",
    "\n",
    "# Modelo de regresión lineal\n",
    "modeloRidge = make_pipeline(GaussianFeatures(30),Ridge(alpha=0.1))\n",
    "# Entrenamiento del modelo\n",
    "modeloRidge.fit(xtrain, ytrain)\n"
   ]
  },
  {
   "cell_type": "code",
   "execution_count": 22,
   "metadata": {},
   "outputs": [],
   "source": [
    "ypredRidge= modeloRidge.predict(xtest)\n",
    "\n",
    "ypredRidge=ypredRidge.reshape(199,)"
   ]
  },
  {
   "cell_type": "code",
   "execution_count": 23,
   "metadata": {},
   "outputs": [],
   "source": [
    "ypredRidge[ypredRidge.flatten()>=0.5]=1\n",
    "ypredRidge[ypredRidge.flatten()<0.5]=0\n",
    "ypredRidge=ypredRidge.reshape(199,1)"
   ]
  },
  {
   "cell_type": "code",
   "execution_count": 24,
   "metadata": {},
   "outputs": [
    {
     "name": "stdout",
     "output_type": "stream",
     "text": [
      "La MSE es : 0.246\n"
     ]
    }
   ],
   "source": [
    "# MSE (Mean Square Error)\n",
    "MSE = (np.sum(ytest-ypredRidge)**2)/199\n",
    "MSE\n",
    "print(\"La MSE es : {}\".format(np.round(MSE,3)))\n"
   ]
  },
  {
   "cell_type": "code",
   "execution_count": 59,
   "metadata": {},
   "outputs": [
    {
     "name": "stdout",
     "output_type": "stream",
     "text": [
      "0.7537688442211056\n",
      "              precision    recall  f1-score   support\n",
      "\n",
      "         0.0       0.71      0.77      0.74        91\n",
      "         1.0       0.79      0.74      0.77       108\n",
      "\n",
      "   micro avg       0.75      0.75      0.75       199\n",
      "   macro avg       0.75      0.75      0.75       199\n",
      "weighted avg       0.76      0.75      0.75       199\n",
      "\n"
     ]
    }
   ],
   "source": [
    "from sklearn.metrics import accuracy_score\n",
    "from sklearn import metrics\n",
    "print(accuracy_score(ytest,ypredRidge))\n",
    "print(metrics.classification_report(ytest, ypredRidge))"
   ]
  },
  {
   "cell_type": "code",
   "execution_count": 26,
   "metadata": {},
   "outputs": [
    {
     "data": {
      "image/png": "[encoded data removed]",
      "text/plain": [
       "<Figure size 432x288 with 1 Axes>"
      ]
     },
     "metadata": {
      "needs_background": "light"
     },
     "output_type": "display_data"
    }
   ],
   "source": [
    "matrizRidge = confusion_matrix(ytest, ypredRidge)\n",
    "\n",
    "sns.heatmap(matrizRidge, square=True, annot=True, cbar=False, cmap='Blues')\n",
    "plt.xlabel('Valores predichos')\n",
    "plt.ylabel('Valores reales');"
   ]
  },
  {
   "cell_type": "markdown",
   "metadata": {},
   "source": [
    "### Regresión Lineal usando Lasso\n"
   ]
  },
  {
   "cell_type": "code",
   "execution_count": 27,
   "metadata": {},
   "outputs": [
    {
     "data": {
      "text/plain": [
       "Pipeline(memory=None,\n",
       "     steps=[('gaussianfeatures', GaussianFeatures(N=30, width=None)), ('lasso', Lasso(alpha=0.01, copy_X=True, fit_intercept=True, max_iter=1000,\n",
       "   normalize=False, positive=False, precompute=False, random_state=None,\n",
       "   selection='cyclic', tol=0.0001, warm_start=False))])"
      ]
     },
     "execution_count": 27,
     "metadata": {},
     "output_type": "execute_result"
    }
   ],
   "source": [
    "# Regresión Lineal\n",
    "from sklearn.linear_model import Lasso\n",
    "\n",
    "# Modelo de regresión lineal\n",
    "modeloLasso = make_pipeline(GaussianFeatures(30),Lasso(alpha=0.01))\n",
    "# Entrenamiento del modelo\n",
    "modeloLasso.fit(xtrain, ytrain)"
   ]
  },
  {
   "cell_type": "code",
   "execution_count": 28,
   "metadata": {},
   "outputs": [],
   "source": [
    "ypredLasso= modeloLasso.predict(xtest)\n",
    "ypredLasso=ypredLasso.reshape(199,)"
   ]
  },
  {
   "cell_type": "code",
   "execution_count": 29,
   "metadata": {},
   "outputs": [],
   "source": [
    "ypredLasso[ypredLasso.flatten()>=0.5]=1\n",
    "ypredLasso[ypredLasso.flatten()<0.5]=0\n",
    "ypredLasso=ypredLasso.reshape(199,1)"
   ]
  },
  {
   "cell_type": "code",
   "execution_count": 30,
   "metadata": {},
   "outputs": [
    {
     "name": "stdout",
     "output_type": "stream",
     "text": [
      "La MSE es : 0.246\n"
     ]
    }
   ],
   "source": [
    "# MSE (Mean Square Error)\n",
    "MSE = (np.sum(ytest-ypredLasso)**2)/199\n",
    "MSE\n",
    "print(\"La MSE es : {}\".format(np.round(MSE,3)))\n"
   ]
  },
  {
   "cell_type": "code",
   "execution_count": 58,
   "metadata": {},
   "outputs": [
    {
     "name": "stdout",
     "output_type": "stream",
     "text": [
      "0.7336683417085427\n",
      "              precision    recall  f1-score   support\n",
      "\n",
      "         0.0       0.73      0.67      0.70        91\n",
      "         1.0       0.74      0.79      0.76       108\n",
      "\n",
      "   micro avg       0.73      0.73      0.73       199\n",
      "   macro avg       0.73      0.73      0.73       199\n",
      "weighted avg       0.73      0.73      0.73       199\n",
      "\n"
     ]
    }
   ],
   "source": [
    "from sklearn.metrics import accuracy_score\n",
    "from sklearn import metrics\n",
    "print(accuracy_score(ytest,ypredLasso))\n",
    "print(metrics.classification_report(ytest, ypredLasso))"
   ]
  },
  {
   "cell_type": "code",
   "execution_count": 32,
   "metadata": {},
   "outputs": [
    {
     "data": {
      "image/png": "[encoded data removed]",
      "text/plain": [
       "<Figure size 432x288 with 1 Axes>"
      ]
     },
     "metadata": {
      "needs_background": "light"
     },
     "output_type": "display_data"
    }
   ],
   "source": [
    "matrizLasso = confusion_matrix(ytest, ypredLasso)\n",
    "\n",
    "sns.heatmap(matrizLasso, square=True, annot=True, cbar=False, cmap='Blues')\n",
    "plt.xlabel('Valores predichos')\n",
    "plt.ylabel('Valores reales');"
   ]
  },
  {
   "cell_type": "markdown",
   "metadata": {},
   "source": [
    "### Árboles de decisiones"
   ]
  },
  {
   "cell_type": "code",
   "execution_count": 54,
   "metadata": {},
   "outputs": [
    {
     "name": "stdout",
     "output_type": "stream",
     "text": [
      "Exactitud: 63.8190954774 %\n",
      "              precision    recall  f1-score   support\n",
      "\n",
      "         0.0       0.61      0.59      0.60        91\n",
      "         1.0       0.66      0.68      0.67       108\n",
      "\n",
      "   micro avg       0.64      0.64      0.64       199\n",
      "   macro avg       0.64      0.63      0.63       199\n",
      "weighted avg       0.64      0.64      0.64       199\n",
      "\n"
     ]
    }
   ],
   "source": [
    "from sklearn.tree import DecisionTreeClassifier\n",
    "from sklearn.metrics import accuracy_score\n",
    "from sklearn import metrics\n",
    "modelAD = DecisionTreeClassifier(min_samples_split=17)\n",
    "\n",
    "# Entrenamiento usando las instancias X y las salidas y\n",
    "modelAD.fit(xtrain, ytrain)\n",
    "\n",
    "# Predicciones usando el modelo entrenado\n",
    "y_predAD = modelAD.predict(xtest)\n",
    "\n",
    "\n",
    "\n",
    "# Medición de la exactitud\n",
    "acc = accuracy_score(ytest, y_predAD)\n",
    "print(\"Exactitud: {} %\".format(acc*100))\n",
    "\n",
    "print(metrics.classification_report(ytest, y_predAD))"
   ]
  },
  {
   "cell_type": "code",
   "execution_count": 34,
   "metadata": {},
   "outputs": [
    {
     "data": {
      "image/png": "[encoded data removed]",
      "text/plain": [
       "<Figure size 432x288 with 1 Axes>"
      ]
     },
     "metadata": {
      "needs_background": "light"
     },
     "output_type": "display_data"
    }
   ],
   "source": [
    "matrizAD = confusion_matrix(ytest, y_predAD)\n",
    "\n",
    "sns.heatmap(matrizAD, square=True, annot=True, cbar=False, cmap='Blues')\n",
    "plt.xlabel('Valores predichos')\n",
    "plt.ylabel('Valores reales');"
   ]
  },
  {
   "cell_type": "markdown",
   "metadata": {},
   "source": [
    "### Random Forest"
   ]
  },
  {
   "cell_type": "code",
   "execution_count": 35,
   "metadata": {},
   "outputs": [],
   "source": [
    "from sklearn.tree import DecisionTreeClassifier\n",
    "from sklearn.ensemble import BaggingClassifier\n",
    "\n",
    "# Definición del clasificador: árboles de decisión\n",
    "h = DecisionTreeClassifier()\n",
    "# Clasificador bagging usando árboles de decisión\n",
    "modelRF = BaggingClassifier(h, n_estimators=1000, max_samples=0.6, random_state=1)"
   ]
  },
  {
   "cell_type": "code",
   "execution_count": 36,
   "metadata": {},
   "outputs": [
    {
     "name": "stderr",
     "output_type": "stream",
     "text": [
      "D:\\anaconda3\\envs\\python2\\lib\\site-packages\\sklearn\\ensemble\\bagging.py:622: DataConversionWarning: A column-vector y was passed when a 1d array was expected. Please change the shape of y to (n_samples, ), for example using ravel().\n",
      "  y = column_or_1d(y, warn=True)\n"
     ]
    },
    {
     "data": {
      "text/plain": [
       "BaggingClassifier(base_estimator=DecisionTreeClassifier(class_weight=None, criterion='gini', max_depth=None,\n",
       "            max_features=None, max_leaf_nodes=None,\n",
       "            min_impurity_decrease=0.0, min_impurity_split=None,\n",
       "            min_samples_leaf=1, min_samples_split=2,\n",
       "            min_weight_fraction_leaf=0.0, presort=False, random_state=None,\n",
       "            splitter='best'),\n",
       "         bootstrap=True, bootstrap_features=False, max_features=1.0,\n",
       "         max_samples=0.6, n_estimators=1000, n_jobs=None, oob_score=False,\n",
       "         random_state=1, verbose=0, warm_start=False)"
      ]
     },
     "execution_count": 36,
     "metadata": {},
     "output_type": "execute_result"
    }
   ],
   "source": [
    "# Entrenamiento\n",
    "modelRF.fit(xtrain, ytrain)"
   ]
  },
  {
   "cell_type": "code",
   "execution_count": 57,
   "metadata": {},
   "outputs": [
    {
     "name": "stdout",
     "output_type": "stream",
     "text": [
      "Exactitud: 69.3467336683 %\n",
      "              precision    recall  f1-score   support\n",
      "\n",
      "         0.0       0.67      0.66      0.66        91\n",
      "         1.0       0.72      0.72      0.72       108\n",
      "\n",
      "   micro avg       0.69      0.69      0.69       199\n",
      "   macro avg       0.69      0.69      0.69       199\n",
      "weighted avg       0.69      0.69      0.69       199\n",
      "\n"
     ]
    }
   ],
   "source": [
    "# Predicciones usando el modelo entrenado\n",
    "y_predRF = modelRF.predict(xtest)\n",
    "# Medición de la exactitud\n",
    "acc = accuracy_score(ytest, y_predRF)\n",
    "print(\"Exactitud: {} %\".format(acc*100))\n",
    "print(metrics.classification_report(ytest, y_predRF))\n"
   ]
  },
  {
   "cell_type": "code",
   "execution_count": 38,
   "metadata": {},
   "outputs": [
    {
     "data": {
      "image/png": "[encoded data removed]",
      "text/plain": [
       "<Figure size 432x288 with 1 Axes>"
      ]
     },
     "metadata": {
      "needs_background": "light"
     },
     "output_type": "display_data"
    }
   ],
   "source": [
    "matrizRF = confusion_matrix(ytest,y_predRF)\n",
    "\n",
    "sns.heatmap(matrizRF, square=True, annot=True, cbar=False, cmap='Blues')\n",
    "plt.xlabel('Valores predichos')\n",
    "plt.ylabel('Valores reales');"
   ]
  },
  {
   "cell_type": "markdown",
   "metadata": {},
   "source": [
    "### Regresión Logistica "
   ]
  },
  {
   "cell_type": "code",
   "execution_count": 39,
   "metadata": {},
   "outputs": [
    {
     "name": "stderr",
     "output_type": "stream",
     "text": [
      "D:\\anaconda3\\envs\\python2\\lib\\site-packages\\sklearn\\linear_model\\logistic.py:433: FutureWarning: Default solver will be changed to 'lbfgs' in 0.22. Specify a solver to silence this warning.\n",
      "  FutureWarning)\n",
      "D:\\anaconda3\\envs\\python2\\lib\\site-packages\\sklearn\\utils\\validation.py:761: DataConversionWarning: A column-vector y was passed when a 1d array was expected. Please change the shape of y to (n_samples, ), for example using ravel().\n",
      "  y = column_or_1d(y, warn=True)\n"
     ]
    },
    {
     "data": {
      "text/plain": [
       "LogisticRegression(C=1.0, class_weight=None, dual=False, fit_intercept=True,\n",
       "          intercept_scaling=1, max_iter=100, multi_class='warn',\n",
       "          n_jobs=None, penalty='l2', random_state=None, solver='warn',\n",
       "          tol=0.0001, verbose=0, warm_start=False)"
      ]
     },
     "execution_count": 39,
     "metadata": {},
     "output_type": "execute_result"
    }
   ],
   "source": [
    "# Regresión Logistica\n",
    "from sklearn import linear_model\n",
    "from sklearn import model_selection\n",
    "# Modelo de regresión logistica\n",
    "modeloRL = linear_model.LogisticRegression()\n",
    "# Entrenamiento del modelo\n",
    "modeloRL.fit(xtrain, ytrain)"
   ]
  },
  {
   "cell_type": "code",
   "execution_count": 40,
   "metadata": {},
   "outputs": [],
   "source": [
    "ypredRL= modeloRL.predict(xtest)\n",
    "ypredRL=ypredRL.reshape(199,)"
   ]
  },
  {
   "cell_type": "code",
   "execution_count": 51,
   "metadata": {},
   "outputs": [
    {
     "name": "stdout",
     "output_type": "stream",
     "text": [
      "Exactitud: 62.8140703518 %\n",
      "              precision    recall  f1-score   support\n",
      "\n",
      "         0.0       0.56      0.92      0.69        91\n",
      "         1.0       0.85      0.38      0.53       108\n",
      "\n",
      "   micro avg       0.63      0.63      0.63       199\n",
      "   macro avg       0.71      0.65      0.61       199\n",
      "weighted avg       0.72      0.63      0.60       199\n",
      "\n"
     ]
    }
   ],
   "source": [
    "# Medición de la exactitud\n",
    "\n",
    "acc = accuracy_score(ytest, ypredRL)\n",
    "print(\"Exactitud: {} %\".format(acc*100))\n",
    "print(metrics.classification_report(ytest, ypredRL))"
   ]
  },
  {
   "cell_type": "code",
   "execution_count": 42,
   "metadata": {},
   "outputs": [
    {
     "data": {
      "image/png": "[encoded data removed]",
      "text/plain": [
       "<Figure size 432x288 with 1 Axes>"
      ]
     },
     "metadata": {
      "needs_background": "light"
     },
     "output_type": "display_data"
    }
   ],
   "source": [
    "matrizRL = confusion_matrix(ytest, ypredRL)\n",
    "\n",
    "sns.heatmap(matrizRL, square=True, annot=True, cbar=False, cmap='Blues')\n",
    "plt.xlabel('Valores predichos')\n",
    "plt.ylabel('Valores reales');"
   ]
  }
 ],
 "metadata": {
  "kernelspec": {
   "display_name": "Python 3 (ipykernel)",
   "language": "python",
   "name": "python3"
  },
  "language_info": {
   "codemirror_mode": {
    "name": "ipython",
    "version": 3
   },
   "file_extension": ".py",
   "mimetype": "text/x-python",
   "name": "python",
   "nbconvert_exporter": "python",
   "pygments_lexer": "ipython3",
   "version": "3.11.5"
  }
 },
 "nbformat": 4,
 "nbformat_minor": 2
}
